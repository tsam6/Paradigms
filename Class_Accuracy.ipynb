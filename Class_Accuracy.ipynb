{
  "nbformat": 4,
  "nbformat_minor": 0,
  "metadata": {
    "colab": {
      "provenance": [],
      "authorship_tag": "ABX9TyPnIp7uTbys+DuldRNIbvh7",
      "include_colab_link": true
    },
    "kernelspec": {
      "name": "python3",
      "display_name": "Python 3"
    },
    "language_info": {
      "name": "python"
    }
  },
  "cells": [
    {
      "cell_type": "markdown",
      "metadata": {
        "id": "view-in-github",
        "colab_type": "text"
      },
      "source": [
        "<a href=\"https://colab.research.google.com/github/tsam6/Paradigms/blob/main/Class_Accuracy.ipynb\" target=\"_parent\"><img src=\"https://colab.research.google.com/assets/colab-badge.svg\" alt=\"Open In Colab\"/></a>"
      ]
    },
    {
      "cell_type": "code",
      "source": [
        "#@title initializing data set\n",
        "!pip3 install mne -q\n",
        "!git clone https://github.com/N-Nieto/Inner_Speech_Dataset -q"
      ],
      "metadata": {
        "colab": {
          "base_uri": "https://localhost:8080/"
        },
        "cellView": "form",
        "id": "HpYmYNsh5YzJ",
        "outputId": "8229e7b5-f88f-4581-c916-ca82b81323f1"
      },
      "execution_count": null,
      "outputs": [
        {
          "output_type": "stream",
          "name": "stdout",
          "text": [
            "\u001b[2K   \u001b[90m━━━━━━━━━━━━━━━━━━━━━━━━━━━━━━━━━━━━━━━━\u001b[0m \u001b[32m7.4/7.4 MB\u001b[0m \u001b[31m15.7 MB/s\u001b[0m eta \u001b[36m0:00:00\u001b[0m\n",
            "\u001b[?25h"
          ]
        }
      ]
    },
    {
      "cell_type": "code",
      "execution_count": null,
      "metadata": {
        "id": "HTrz_NStcMD7",
        "colab": {
          "base_uri": "https://localhost:8080/"
        },
        "cellView": "form",
        "outputId": "57856ec9-83a5-4efa-d7b0-1650e3f3c9ac"
      },
      "outputs": [
        {
          "output_type": "stream",
          "name": "stdout",
          "text": [
            "Mounted at /content/gdrive\n",
            "Mounted at /gdrive\n"
          ]
        }
      ],
      "source": [
        "#@title imports and misc\n",
        "\n",
        "from google.colab import drive\n",
        "import mne\n",
        "import warnings\n",
        "import numpy as np\n",
        "\n",
        "from google.colab import drive\n",
        "drive.mount('/content/gdrive')\n",
        "from Inner_Speech_Dataset.Python_Processing.Data_extractions import  extract_data_from_subject\n",
        "from Inner_Speech_Dataset.Python_Processing.Data_processing import  select_time_window, transform_for_classificator, filter_by_condition, filter_by_class\n",
        "\n",
        "np.random.seed(23)\n",
        "\n",
        "mne.set_log_level(verbose='warning') #to avoid info at terminal\n",
        "warnings.filterwarnings(action = \"ignore\", category = DeprecationWarning )\n",
        "warnings.filterwarnings(action = \"ignore\", category = FutureWarning )\n",
        "\n",
        "\n",
        "Conditions = [[\"Vis\"],[\"Inner\"],[\"Pron\"]]\n",
        "Intervals = [\"action\", \"think\", \"entire\"]\n",
        "\n",
        "drive.mount('/gdrive', force_remount=True)\n",
        "\n",
        "### Hyperparameters\n",
        "\n",
        "# The root dir has to point to the folder that contains the database\n",
        "root_dir = \"/gdrive/My Drive/inner_speech_set\"\n",
        "\n",
        "# Data Type\n",
        "datatype = \"EEG\"\n",
        "\n",
        "# Sampling rate\n",
        "fs = 256\n",
        "\n",
        "# Select the useful par of each trial. Time in seconds\n",
        "t_start = 0\n",
        "t_end = 4.5\n",
        "\n",
        "# Subject number\n",
        "N_S = 1   #[1 to 10]\n"
      ]
    },
    {
      "cell_type": "code",
      "source": [
        "#@title loading subjects\n",
        "\n",
        "#different subjects used\n",
        "N_S_list = [1, 2, 3, 4, 5, 6, 7, 8, 9, 10]\n",
        "\n",
        "#Class values (up down left right)\n",
        "cls_vl = [0, 1, 2, 3]\n",
        "\n",
        "# sampling rate\n",
        "fs = 256\n",
        "\n",
        "# alpha beta and gamma bands frequencies respectively\n",
        "eeg_bands = [[8,12], [12,30], [32,80] ]\n",
        "\n",
        "N_S_load = []\n",
        "N_S_load_Y = []\n",
        "\n",
        "for N_S in N_S_list:\n",
        "\n",
        "  X, Y = extract_data_from_subject(root_dir, N_S, datatype)\n",
        "\n",
        "  X_action = select_time_window(X = X, t_start = .5, t_end = 1, fs = fs)\n",
        "  X_think = select_time_window(X = X, t_start = 1, t_end = 2, fs = fs)\n",
        "  X_sig = select_time_window(X = X, t_start = 1, t_end = 4, fs = fs)\n",
        "\n",
        "  intervals = []\n",
        "\n",
        "  intervals.append(X_action)\n",
        "  intervals.append(X_think)\n",
        "  intervals.append(X_sig)\n",
        "\n",
        "  N_S_load.append(intervals)\n",
        "  N_S_load_Y.append(Y)"
      ],
      "metadata": {
        "collapsed": true,
        "cellView": "form",
        "id": "hNoB90782yOO"
      },
      "execution_count": null,
      "outputs": []
    },
    {
      "cell_type": "code",
      "source": [
        "#@title Training Code\n",
        "\n",
        "import numpy as np\n",
        "import matplotlib.pyplot as plt\n",
        "import seaborn as sns\n",
        "from scipy import signal\n",
        "from sklearn.model_selection import train_test_split\n",
        "from sklearn import svm, metrics\n",
        "from sklearn.neighbors import KNeighborsClassifier\n",
        "\n",
        "def filter_data(X_val, Y_val, condition):\n",
        "  # condition based filtering ( visualized, pronounced, inner)\n",
        "  which_trials = Y_val[:,2]==[condition]\n",
        "\n",
        "  which_classes = np.logical_or(\n",
        "  np.logical_or(Y_val[:,1]==cls_vl[0], Y_val[:,1]==cls_vl[1]),\n",
        "  np.logical_or(Y_val[:,1]==cls_vl[2], Y_val[:,1]==cls_vl[3])\n",
        ")\n",
        "  which_trials = np.logical_and(which_trials, which_classes)\n",
        "\n",
        "  X_trans = X_val[which_trials]\n",
        "  Y_trans = Y_val[which_trials]\n",
        "\n",
        "  return X_trans, Y_trans\n",
        "\n",
        "def val(X_val):\n",
        "\n",
        "  X_val = X_val[:,:,::2] # gets frequency for every other\n",
        "  X_tran_erp = X_val[:,eeg,:] # gets values for the nth channel\n",
        "\n",
        "  return X_tran_erp\n",
        "\n",
        "def val1(X_val):\n",
        "\n",
        "  X_tran_psd = X_val[:,eeg,:] #gets values for the nth channel\n",
        "\n",
        "  return X_tran_psd\n",
        "\n",
        "def indexer(freqs, psd):\n",
        "  # index the frequencies so it isolates only the specific bands for necessary data collection\n",
        "  indexer1 = freqs>eeg_bands[0][0]\n",
        "  indexer2 = freqs<eeg_bands[0][1]\n",
        "  indexer_alpha = np.logical_and(indexer1, indexer2)\n",
        "\n",
        "  indexer1 = freqs>eeg_bands[1][0]\n",
        "  indexer2 = freqs<eeg_bands[1][1]\n",
        "  indexer_beta = np.logical_and(indexer1, indexer2)\n",
        "\n",
        "  indexer1 = freqs>eeg_bands[2][0]\n",
        "  indexer2 = freqs<eeg_bands[2][1]\n",
        "  indexer_gamma = np.logical_and(indexer1, indexer2)\n",
        "\n",
        "  # averages all of the PSDs across the alpha band\n",
        "\n",
        "  alpha = psd[:,indexer_alpha].mean(axis=-1)\n",
        "  beta = psd[:,indexer_beta].mean(axis=-1)\n",
        "  gamma = psd[:,indexer_gamma].mean(axis=-1)\n",
        "  psd_avg = np.vstack([alpha, beta, gamma]).T\n",
        "\n",
        "  return psd_avg\n",
        "\n",
        "\n",
        "def train_evaluate(X_val, Y_val, model):\n",
        "  # splits data into training and testing sets\n",
        "  X_train, X_test, Y_train, Y_test = train_test_split(\n",
        "            X_val, Y_val, test_size=0.1)\n",
        "\n",
        "  clf = model\n",
        "  clf.fit(X_train, Y_train)\n",
        "\n",
        "  Y_pred = clf.predict(X_test)\n",
        "  avg = metrics.accuracy_score(Y_test, Y_pred)*100\n",
        "  return avg\n",
        "\n",
        "def evaluate(X_val, Y_val, model):\n",
        "\n",
        "  psd_eeg_scores = []\n",
        "  erp_eeg_scores = []\n",
        "  for eeg in range(128):\n",
        "\n",
        "    inr_erp_scores = []\n",
        "    inr_psd_scores = []\n",
        "    for inr in range(3):\n",
        "\n",
        "      con_psd_scores = []\n",
        "      con_erp_scores = []\n",
        "      for con in range(3):\n",
        "\n",
        "        avg_erp = 0\n",
        "        avg_psd = 0\n",
        "        values = 10\n",
        "        for trials in range(10):\n",
        "\n",
        "          X_trans, Y_trans = filter_data(X_val[inr], Y_val, con)\n",
        "\n",
        "          X_trans_psd = val1(X_trans)\n",
        "          X_trans_erp = val(X_trans)\n",
        "\n",
        "          freqs, psd = signal.welch(X_trans_psd, fs, nperseg=128)\n",
        "\n",
        "          avg_erp += train_evaluate(X_trans_erp, Y_trans[:,1], model)\n",
        "          avg_psd += train_evaluate(indexer(freqs, psd), Y_trans[:,1], model)\n",
        "\n",
        "        con_psd_scores.append(avg_psd/values)\n",
        "        con_erp_scores.append(avg_erp/values)\n",
        "\n",
        "      inr_psd_scores.append(avg_psd)\n",
        "      inr_erp_scores.append(avg_erp)\n",
        "\n",
        "    psd_eeg_scores.append(inr_psd_scores)\n",
        "    erp_eeg_scores.append(inr_erp_scores)\n",
        "\n",
        "  return psd_eeg_scores, erp_eeg_scores\n",
        "\n"
      ],
      "metadata": {
        "cellView": "form",
        "id": "_-ppKFZMyzxw"
      },
      "execution_count": null,
      "outputs": []
    },
    {
      "cell_type": "code",
      "source": [
        "#@title model function\n",
        "\n",
        "\n",
        "def model_run(model_name, model):\n",
        "  globals()[model_name + '_erp_scores'] = []\n",
        "  globals()[model_name + '_psd_scores'] = []\n",
        "\n",
        "  for N_S in N_S_list:\n",
        "      psd_scores, erp_scores = evaluate(N_S_load[N_S - 1], N_S_load_Y[N_S-1], model)\n",
        "      globals()[model_name + '_erp_scores'].append(erp_scores)\n",
        "      globals()[model_name + '_psd_scores'].append(psd_scores)\n",
        "  globals()[model_name + '_erp_score_avg'] = np.mean(globals()[model_name + '_erp_scores'], axis=0)\n",
        "  globals()[model_name + '_psd_score_avg'] = np.mean(globals()[model_name + '_psd_scores'], axis=0)"
      ],
      "metadata": {
        "id": "QlxDAO1qeFcX"
      },
      "execution_count": null,
      "outputs": []
    },
    {
      "cell_type": "code",
      "source": [
        "#@title SVC code\n",
        "model_run('SVC', svm.SVC())\n",
        "\n",
        "SVC_erp_score_avg.shape"
      ],
      "metadata": {
        "colab": {
          "base_uri": "https://localhost:8080/",
          "height": 275
        },
        "id": "7pjEpZWhioZY",
        "outputId": "86282392-84b2-45be-a3eb-db9f54552960"
      },
      "execution_count": null,
      "outputs": [
        {
          "output_type": "error",
          "ename": "KeyboardInterrupt",
          "evalue": "",
          "traceback": [
            "\u001b[0;31m---------------------------------------------------------------------------\u001b[0m",
            "\u001b[0;31mKeyboardInterrupt\u001b[0m                         Traceback (most recent call last)",
            "\u001b[0;32m<ipython-input-50-03ae363540ae>\u001b[0m in \u001b[0;36m<cell line: 1>\u001b[0;34m()\u001b[0m\n\u001b[0;32m----> 1\u001b[0;31m \u001b[0mmodel_run\u001b[0m\u001b[0;34m(\u001b[0m\u001b[0;34m'SVC'\u001b[0m\u001b[0;34m,\u001b[0m \u001b[0msvm\u001b[0m\u001b[0;34m.\u001b[0m\u001b[0mSVC\u001b[0m\u001b[0;34m(\u001b[0m\u001b[0;34m)\u001b[0m\u001b[0;34m)\u001b[0m\u001b[0;34m\u001b[0m\u001b[0;34m\u001b[0m\u001b[0m\n\u001b[0m",
            "\u001b[0;32m<ipython-input-49-ffa3e9aca8a3>\u001b[0m in \u001b[0;36mmodel_run\u001b[0;34m(model_name, model)\u001b[0m\n\u001b[1;32m      4\u001b[0m \u001b[0;34m\u001b[0m\u001b[0m\n\u001b[1;32m      5\u001b[0m   \u001b[0;32mfor\u001b[0m \u001b[0mN_S\u001b[0m \u001b[0;32min\u001b[0m \u001b[0mN_S_list\u001b[0m\u001b[0;34m:\u001b[0m\u001b[0;34m\u001b[0m\u001b[0;34m\u001b[0m\u001b[0m\n\u001b[0;32m----> 6\u001b[0;31m       \u001b[0mpsd_scores\u001b[0m\u001b[0;34m,\u001b[0m \u001b[0merp_scores\u001b[0m \u001b[0;34m=\u001b[0m \u001b[0mevaluate\u001b[0m\u001b[0;34m(\u001b[0m\u001b[0mN_S_load\u001b[0m\u001b[0;34m[\u001b[0m\u001b[0mN_S\u001b[0m \u001b[0;34m-\u001b[0m \u001b[0;36m1\u001b[0m\u001b[0;34m]\u001b[0m\u001b[0;34m,\u001b[0m \u001b[0mN_S_load_Y\u001b[0m\u001b[0;34m[\u001b[0m\u001b[0mN_S\u001b[0m\u001b[0;34m-\u001b[0m\u001b[0;36m1\u001b[0m\u001b[0;34m]\u001b[0m\u001b[0;34m,\u001b[0m \u001b[0mmodel\u001b[0m\u001b[0;34m)\u001b[0m\u001b[0;34m\u001b[0m\u001b[0;34m\u001b[0m\u001b[0m\n\u001b[0m\u001b[1;32m      7\u001b[0m       \u001b[0mglobals\u001b[0m\u001b[0;34m(\u001b[0m\u001b[0;34m)\u001b[0m\u001b[0;34m[\u001b[0m\u001b[0mmodel_name\u001b[0m \u001b[0;34m+\u001b[0m \u001b[0;34m'_erp_scores'\u001b[0m\u001b[0;34m]\u001b[0m\u001b[0;34m.\u001b[0m\u001b[0mappend\u001b[0m\u001b[0;34m(\u001b[0m\u001b[0merp_scores\u001b[0m\u001b[0;34m)\u001b[0m\u001b[0;34m\u001b[0m\u001b[0;34m\u001b[0m\u001b[0m\n\u001b[1;32m      8\u001b[0m       \u001b[0mglobals\u001b[0m\u001b[0;34m(\u001b[0m\u001b[0;34m)\u001b[0m\u001b[0;34m[\u001b[0m\u001b[0mmodel_name\u001b[0m \u001b[0;34m+\u001b[0m \u001b[0;34m'_psd_scores'\u001b[0m\u001b[0;34m]\u001b[0m\u001b[0;34m.\u001b[0m\u001b[0mappend\u001b[0m\u001b[0;34m(\u001b[0m\u001b[0mpsd_scores\u001b[0m\u001b[0;34m)\u001b[0m\u001b[0;34m\u001b[0m\u001b[0;34m\u001b[0m\u001b[0m\n",
            "\u001b[0;32m<ipython-input-40-7b201dea33e4>\u001b[0m in \u001b[0;36mevaluate\u001b[0;34m(X_val, Y_val, model)\u001b[0m\n\u001b[1;32m     92\u001b[0m         \u001b[0;32mfor\u001b[0m \u001b[0mtrials\u001b[0m \u001b[0;32min\u001b[0m \u001b[0mrange\u001b[0m\u001b[0;34m(\u001b[0m\u001b[0;36m10\u001b[0m\u001b[0;34m)\u001b[0m\u001b[0;34m:\u001b[0m\u001b[0;34m\u001b[0m\u001b[0;34m\u001b[0m\u001b[0m\n\u001b[1;32m     93\u001b[0m \u001b[0;34m\u001b[0m\u001b[0m\n\u001b[0;32m---> 94\u001b[0;31m           \u001b[0mX_trans\u001b[0m\u001b[0;34m,\u001b[0m \u001b[0mY_trans\u001b[0m \u001b[0;34m=\u001b[0m \u001b[0mfilter_data\u001b[0m\u001b[0;34m(\u001b[0m\u001b[0mX_val\u001b[0m\u001b[0;34m[\u001b[0m\u001b[0minr\u001b[0m\u001b[0;34m]\u001b[0m\u001b[0;34m,\u001b[0m \u001b[0mY_val\u001b[0m\u001b[0;34m,\u001b[0m \u001b[0mcon\u001b[0m\u001b[0;34m)\u001b[0m\u001b[0;34m\u001b[0m\u001b[0;34m\u001b[0m\u001b[0m\n\u001b[0m\u001b[1;32m     95\u001b[0m \u001b[0;34m\u001b[0m\u001b[0m\n\u001b[1;32m     96\u001b[0m           \u001b[0mX_trans_psd\u001b[0m \u001b[0;34m=\u001b[0m \u001b[0mval1\u001b[0m\u001b[0;34m(\u001b[0m\u001b[0mX_trans\u001b[0m\u001b[0;34m)\u001b[0m\u001b[0;34m\u001b[0m\u001b[0;34m\u001b[0m\u001b[0m\n",
            "\u001b[0;31mKeyboardInterrupt\u001b[0m: "
          ]
        }
      ]
    },
    {
      "cell_type": "code",
      "source": [
        "#@title SVC code\n",
        "model_run('SVC', svm.SVC())"
      ],
      "metadata": {
        "id": "c6B1IPeHouD8"
      },
      "execution_count": null,
      "outputs": []
    }
  ]
}